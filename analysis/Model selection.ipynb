{
 "cells": [
  {
   "cell_type": "code",
   "execution_count": 1,
   "metadata": {},
   "outputs": [],
   "source": [
    "#importing libraries\n",
    "\n",
    "import numpy as np\n",
    "import matplotlib.pyplot as plt\n",
    "import pandas as pd\n",
    "# import seaborn as sns\n",
    "# get_ipython().run_line_magic('matplotlib', 'inline')\n",
    "from sklearn.metrics import classification_report, confusion_matrix\n",
    "from sklearn.model_selection import train_test_split\n",
    "from sklearn.neighbors import KNeighborsClassifier\n",
    "from sklearn.naive_bayes import GaussianNB\n",
    "from sklearn.linear_model import LogisticRegression\n",
    "from sklearn.linear_model import SGDClassifier\n",
    "\n"
   ]
  },
  {
   "cell_type": "code",
   "execution_count": 2,
   "metadata": {},
   "outputs": [
    {
     "data": {
      "text/html": [
       "<div>\n",
       "<style scoped>\n",
       "    .dataframe tbody tr th:only-of-type {\n",
       "        vertical-align: middle;\n",
       "    }\n",
       "\n",
       "    .dataframe tbody tr th {\n",
       "        vertical-align: top;\n",
       "    }\n",
       "\n",
       "    .dataframe thead th {\n",
       "        text-align: right;\n",
       "    }\n",
       "</style>\n",
       "<table border=\"1\" class=\"dataframe\">\n",
       "  <thead>\n",
       "    <tr style=\"text-align: right;\">\n",
       "      <th></th>\n",
       "      <th>Database</th>\n",
       "      <th>C++</th>\n",
       "      <th>Analytical Skills</th>\n",
       "      <th>Python</th>\n",
       "      <th>C</th>\n",
       "      <th>Java</th>\n",
       "      <th>Csharp</th>\n",
       "      <th>R</th>\n",
       "      <th>Statistics</th>\n",
       "      <th>CSS</th>\n",
       "      <th>...</th>\n",
       "      <th>Php</th>\n",
       "      <th>Javascript</th>\n",
       "      <th>Algorithm</th>\n",
       "      <th>Cyber Security</th>\n",
       "      <th>OS</th>\n",
       "      <th>Psyocology</th>\n",
       "      <th>SQL</th>\n",
       "      <th>Communication Skill</th>\n",
       "      <th>Software Testing</th>\n",
       "      <th>TARGET CLASS</th>\n",
       "    </tr>\n",
       "  </thead>\n",
       "  <tbody>\n",
       "    <tr>\n",
       "      <th>1</th>\n",
       "      <td>7</td>\n",
       "      <td>1</td>\n",
       "      <td>8</td>\n",
       "      <td>10</td>\n",
       "      <td>1</td>\n",
       "      <td>1</td>\n",
       "      <td>3</td>\n",
       "      <td>2</td>\n",
       "      <td>7</td>\n",
       "      <td>0</td>\n",
       "      <td>...</td>\n",
       "      <td>0</td>\n",
       "      <td>0</td>\n",
       "      <td>9</td>\n",
       "      <td>0</td>\n",
       "      <td>0</td>\n",
       "      <td>6</td>\n",
       "      <td>8</td>\n",
       "      <td>5</td>\n",
       "      <td>5</td>\n",
       "      <td>Artificial intelligence</td>\n",
       "    </tr>\n",
       "    <tr>\n",
       "      <th>2</th>\n",
       "      <td>7</td>\n",
       "      <td>2</td>\n",
       "      <td>8</td>\n",
       "      <td>9</td>\n",
       "      <td>2</td>\n",
       "      <td>2</td>\n",
       "      <td>0</td>\n",
       "      <td>6</td>\n",
       "      <td>6</td>\n",
       "      <td>0</td>\n",
       "      <td>...</td>\n",
       "      <td>0</td>\n",
       "      <td>0</td>\n",
       "      <td>9</td>\n",
       "      <td>0</td>\n",
       "      <td>0</td>\n",
       "      <td>6</td>\n",
       "      <td>8</td>\n",
       "      <td>5</td>\n",
       "      <td>6</td>\n",
       "      <td>Artificial intelligence</td>\n",
       "    </tr>\n",
       "    <tr>\n",
       "      <th>3</th>\n",
       "      <td>7</td>\n",
       "      <td>3</td>\n",
       "      <td>8</td>\n",
       "      <td>9</td>\n",
       "      <td>3</td>\n",
       "      <td>9</td>\n",
       "      <td>2</td>\n",
       "      <td>9</td>\n",
       "      <td>10</td>\n",
       "      <td>0</td>\n",
       "      <td>...</td>\n",
       "      <td>0</td>\n",
       "      <td>0</td>\n",
       "      <td>9</td>\n",
       "      <td>0</td>\n",
       "      <td>0</td>\n",
       "      <td>6</td>\n",
       "      <td>8</td>\n",
       "      <td>5</td>\n",
       "      <td>7</td>\n",
       "      <td>Artificial intelligence</td>\n",
       "    </tr>\n",
       "    <tr>\n",
       "      <th>4</th>\n",
       "      <td>8</td>\n",
       "      <td>0</td>\n",
       "      <td>6</td>\n",
       "      <td>7</td>\n",
       "      <td>0</td>\n",
       "      <td>2</td>\n",
       "      <td>0</td>\n",
       "      <td>8</td>\n",
       "      <td>10</td>\n",
       "      <td>0</td>\n",
       "      <td>...</td>\n",
       "      <td>0</td>\n",
       "      <td>1</td>\n",
       "      <td>9</td>\n",
       "      <td>3</td>\n",
       "      <td>5</td>\n",
       "      <td>1</td>\n",
       "      <td>7</td>\n",
       "      <td>6</td>\n",
       "      <td>7</td>\n",
       "      <td>data science and analytics</td>\n",
       "    </tr>\n",
       "    <tr>\n",
       "      <th>5</th>\n",
       "      <td>8</td>\n",
       "      <td>1</td>\n",
       "      <td>7</td>\n",
       "      <td>8</td>\n",
       "      <td>1</td>\n",
       "      <td>4</td>\n",
       "      <td>1</td>\n",
       "      <td>7</td>\n",
       "      <td>9</td>\n",
       "      <td>0</td>\n",
       "      <td>...</td>\n",
       "      <td>0</td>\n",
       "      <td>2</td>\n",
       "      <td>9</td>\n",
       "      <td>2</td>\n",
       "      <td>3</td>\n",
       "      <td>1</td>\n",
       "      <td>7</td>\n",
       "      <td>6</td>\n",
       "      <td>7</td>\n",
       "      <td>data science and analytics</td>\n",
       "    </tr>\n",
       "  </tbody>\n",
       "</table>\n",
       "<p>5 rows × 21 columns</p>\n",
       "</div>"
      ],
      "text/plain": [
       "   Database  C++  Analytical Skills  Python  C  Java  Csharp  R  Statistics  \\\n",
       "1         7    1                  8      10  1     1       3  2           7   \n",
       "2         7    2                  8       9  2     2       0  6           6   \n",
       "3         7    3                  8       9  3     9       2  9          10   \n",
       "4         8    0                  6       7  0     2       0  8          10   \n",
       "5         8    1                  7       8  1     4       1  7           9   \n",
       "\n",
       "   CSS  ...  Php  Javascript  Algorithm  Cyber Security  OS  Psyocology  SQL  \\\n",
       "1    0  ...    0           0          9               0   0           6    8   \n",
       "2    0  ...    0           0          9               0   0           6    8   \n",
       "3    0  ...    0           0          9               0   0           6    8   \n",
       "4    0  ...    0           1          9               3   5           1    7   \n",
       "5    0  ...    0           2          9               2   3           1    7   \n",
       "\n",
       "   Communication Skill  Software Testing                TARGET CLASS  \n",
       "1                    5                 5     Artificial intelligence  \n",
       "2                    5                 6     Artificial intelligence  \n",
       "3                    5                 7     Artificial intelligence  \n",
       "4                    6                 7  data science and analytics  \n",
       "5                    6                 7  data science and analytics  \n",
       "\n",
       "[5 rows x 21 columns]"
      ]
     },
     "execution_count": 2,
     "metadata": {},
     "output_type": "execute_result"
    }
   ],
   "source": [
    "\n",
    "#reading the dataset\n",
    "dataset = pd.read_csv(\"dataset/maindataset.csv\", index_col=0)\n",
    "\n",
    "dataset.head()\n"
   ]
  },
  {
   "cell_type": "code",
   "execution_count": 12,
   "metadata": {},
   "outputs": [
    {
     "name": "stdout",
     "output_type": "stream",
     "text": [
      "20\n"
     ]
    },
    {
     "data": {
      "text/plain": [
       "Index(['Database', 'C++', 'Analytical Skills', 'Python', 'C', 'Java', 'Csharp',\n",
       "       'R', 'Statistics', 'CSS', 'Html', 'Php', 'Javascript', 'Algorithm',\n",
       "       'Cyber Security', 'OS', 'Psyocology', 'SQL', 'Communication Skill',\n",
       "       'Software Testing', 'TARGET CLASS'],\n",
       "      dtype='object')"
      ]
     },
     "execution_count": 12,
     "metadata": {},
     "output_type": "execute_result"
    }
   ],
   "source": [
    "# parameters considered\n",
    "\n",
    "print(len(dataset.columns)-1)\n",
    "dataset.columns\n"
   ]
  },
  {
   "cell_type": "code",
   "execution_count": 14,
   "metadata": {},
   "outputs": [
    {
     "name": "stdout",
     "output_type": "stream",
     "text": [
      "18\n"
     ]
    },
    {
     "data": {
      "text/plain": [
       "['Artificial intelligence',\n",
       " 'data science and analytics',\n",
       " 'machine learning',\n",
       " 'robotics',\n",
       " 'human computer interaction',\n",
       " 'management information system',\n",
       " 'applied research and innovation',\n",
       " 'network management',\n",
       " 'cloud computing',\n",
       " 'operation research',\n",
       " 'enterprise architecture management',\n",
       " 'software engineering',\n",
       " 'cyber security',\n",
       " 'computer vision',\n",
       " 'videogame programming',\n",
       " 'distributed system an web technology',\n",
       " 'web design and development',\n",
       " 'computer science']"
      ]
     },
     "execution_count": 14,
     "metadata": {},
     "output_type": "execute_result"
    }
   ],
   "source": [
    "#courses that will be recommended\n",
    "\n",
    "courses_name=list(dataset['TARGET CLASS'].drop_duplicates())\n",
    "\n",
    "print(len(courses_name))\n",
    "\n",
    "courses_name"
   ]
  },
  {
   "cell_type": "code",
   "execution_count": 15,
   "metadata": {},
   "outputs": [],
   "source": [
    "# division of dataset into features and target class\n",
    "\n",
    "X=dataset.iloc[:, :-1].values\n",
    "y=dataset.iloc[:, -1].values\n",
    "\n",
    "\n",
    "X_train, X_test, y_train, y_test = train_test_split(X, y, test_size=0.20)"
   ]
  },
  {
   "cell_type": "code",
   "execution_count": 20,
   "metadata": {},
   "outputs": [],
   "source": [
    "# apply knn algorithm\n",
    "\n",
    "classifier = KNeighborsClassifier(n_neighbors=5)\n",
    "classifier.fit(X_train, y_train)\n",
    "#predict for x_test\n",
    "y_pred = classifier.predict(X_test)\n"
   ]
  },
  {
   "cell_type": "code",
   "execution_count": 24,
   "metadata": {},
   "outputs": [
    {
     "name": "stdout",
     "output_type": "stream",
     "text": [
      "[[0.         5.56776436]] [[104 237]]\n",
      "[6 3 4 3 4 5 4 3 6 5 4 4 4 5 9 7 1 7 5 8]\n",
      "[6 3 4 3 3 5 1 2 1 9 9 8 8 2 8 6 0 9 8 7]\n"
     ]
    }
   ],
   "source": [
    "distances, indices = classifier.kneighbors(X[[0]],  n_neighbors=2)\n",
    "\n",
    "print(distances, indices)\n",
    "print(X[104])\n",
    "print(X[237])"
   ]
  },
  {
   "cell_type": "code",
   "execution_count": null,
   "metadata": {},
   "outputs": [],
   "source": []
  }
 ],
 "metadata": {
  "kernelspec": {
   "display_name": "Python 3",
   "language": "python",
   "name": "python3"
  },
  "language_info": {
   "codemirror_mode": {
    "name": "ipython",
    "version": 3
   },
   "file_extension": ".py",
   "mimetype": "text/x-python",
   "name": "python",
   "nbconvert_exporter": "python",
   "pygments_lexer": "ipython3",
   "version": "3.8.2"
  }
 },
 "nbformat": 4,
 "nbformat_minor": 4
}
